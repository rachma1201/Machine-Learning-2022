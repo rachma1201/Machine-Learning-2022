{
  "nbformat": 4,
  "nbformat_minor": 0,
  "metadata": {
    "colab": {
      "provenance": [],
      "collapsed_sections": [
        "7TjTUYxwM4VW",
        "OGoxEwJPvjPq",
        "caecPjrB6gsc"
      ]
    },
    "kernelspec": {
      "name": "python3",
      "display_name": "Python 3"
    },
    "language_info": {
      "name": "python"
    }
  },
  "cells": [
    {
      "cell_type": "markdown",
      "source": [
        "#Kelompok Machine Learning\n",
        "1. Gau Kurniawi Syam (H071201084)\n",
        "2. Rahmaliyah Kadir (H071201093)\n",
        "3. Adi Indra (H071201095)\n",
        "4. Muhammad Ghazy Alghifary (H071201098)"
      ],
      "metadata": {
        "id": "aZct1gqb89m1"
      }
    },
    {
      "cell_type": "code",
      "source": [
        "from google.colab import drive\n",
        "drive.mount('/content/drive')"
      ],
      "metadata": {
        "colab": {
          "base_uri": "https://localhost:8080/"
        },
        "id": "tkdeXiGZ6v9t",
        "outputId": "2a774d49-bb6b-475a-f285-d9b692dd877f"
      },
      "execution_count": 27,
      "outputs": [
        {
          "output_type": "stream",
          "name": "stdout",
          "text": [
            "Drive already mounted at /content/drive; to attempt to forcibly remount, call drive.mount(\"/content/drive\", force_remount=True).\n"
          ]
        }
      ]
    },
    {
      "cell_type": "code",
      "source": [
        "# Mengimpor Kumpulan library\n",
        "import numpy as np\n",
        "import matplotlib.pyplot as plt\n",
        "import pandas as pd\n",
        "import sklearn"
      ],
      "metadata": {
        "id": "RW2La__BM8qv"
      },
      "execution_count": 28,
      "outputs": []
    },
    {
      "cell_type": "markdown",
      "source": [
        "#K-nearest neighbors (KNN) Classification"
      ],
      "metadata": {
        "id": "7TjTUYxwM4VW"
      }
    },
    {
      "cell_type": "code",
      "source": [
        "# Mengimpor dataset dan mengirisnya menjadi variabel independen dan dependen\n",
        "dt = pd.read_csv('/content/drive/MyDrive/Machine Learning/MID/transfusion.csv')\n",
        "#memastikan bahwa import data telah benar\n",
        "dt.head()"
      ],
      "metadata": {
        "id": "p--qk1FNO5X8",
        "colab": {
          "base_uri": "https://localhost:8080/",
          "height": 206
        },
        "outputId": "b80866fe-2d8b-4c9a-e2d6-c78cb941b3ba"
      },
      "execution_count": 29,
      "outputs": [
        {
          "output_type": "execute_result",
          "data": {
            "text/plain": [
              "   Recency_(months)  Frequency_(times)  Monetary_(c.c. blood)  Time_(months)  \\\n",
              "0                 2                 50                  12500             98   \n",
              "1                 0                 13                   3250             28   \n",
              "2                 1                 16                   4000             35   \n",
              "3                 2                 20                   5000             45   \n",
              "4                 1                 24                   6000             77   \n",
              "\n",
              "   whether_he/she_donated_blood_in_March_2007  \n",
              "0  whether he/she donated blood in March 2008  \n",
              "1  whether he/she donated blood in March 2009  \n",
              "2  whether he/she donated blood in March 2010  \n",
              "3  whether he/she donated blood in March 2011  \n",
              "4  whether he/she donated blood in March 2012  "
            ],
            "text/html": [
              "\n",
              "  <div id=\"df-1cabc02c-f957-400c-8acf-5fb8b4f8b245\">\n",
              "    <div class=\"colab-df-container\">\n",
              "      <div>\n",
              "<style scoped>\n",
              "    .dataframe tbody tr th:only-of-type {\n",
              "        vertical-align: middle;\n",
              "    }\n",
              "\n",
              "    .dataframe tbody tr th {\n",
              "        vertical-align: top;\n",
              "    }\n",
              "\n",
              "    .dataframe thead th {\n",
              "        text-align: right;\n",
              "    }\n",
              "</style>\n",
              "<table border=\"1\" class=\"dataframe\">\n",
              "  <thead>\n",
              "    <tr style=\"text-align: right;\">\n",
              "      <th></th>\n",
              "      <th>Recency_(months)</th>\n",
              "      <th>Frequency_(times)</th>\n",
              "      <th>Monetary_(c.c. blood)</th>\n",
              "      <th>Time_(months)</th>\n",
              "      <th>whether_he/she_donated_blood_in_March_2007</th>\n",
              "    </tr>\n",
              "  </thead>\n",
              "  <tbody>\n",
              "    <tr>\n",
              "      <th>0</th>\n",
              "      <td>2</td>\n",
              "      <td>50</td>\n",
              "      <td>12500</td>\n",
              "      <td>98</td>\n",
              "      <td>whether he/she donated blood in March 2008</td>\n",
              "    </tr>\n",
              "    <tr>\n",
              "      <th>1</th>\n",
              "      <td>0</td>\n",
              "      <td>13</td>\n",
              "      <td>3250</td>\n",
              "      <td>28</td>\n",
              "      <td>whether he/she donated blood in March 2009</td>\n",
              "    </tr>\n",
              "    <tr>\n",
              "      <th>2</th>\n",
              "      <td>1</td>\n",
              "      <td>16</td>\n",
              "      <td>4000</td>\n",
              "      <td>35</td>\n",
              "      <td>whether he/she donated blood in March 2010</td>\n",
              "    </tr>\n",
              "    <tr>\n",
              "      <th>3</th>\n",
              "      <td>2</td>\n",
              "      <td>20</td>\n",
              "      <td>5000</td>\n",
              "      <td>45</td>\n",
              "      <td>whether he/she donated blood in March 2011</td>\n",
              "    </tr>\n",
              "    <tr>\n",
              "      <th>4</th>\n",
              "      <td>1</td>\n",
              "      <td>24</td>\n",
              "      <td>6000</td>\n",
              "      <td>77</td>\n",
              "      <td>whether he/she donated blood in March 2012</td>\n",
              "    </tr>\n",
              "  </tbody>\n",
              "</table>\n",
              "</div>\n",
              "      <button class=\"colab-df-convert\" onclick=\"convertToInteractive('df-1cabc02c-f957-400c-8acf-5fb8b4f8b245')\"\n",
              "              title=\"Convert this dataframe to an interactive table.\"\n",
              "              style=\"display:none;\">\n",
              "        \n",
              "  <svg xmlns=\"http://www.w3.org/2000/svg\" height=\"24px\"viewBox=\"0 0 24 24\"\n",
              "       width=\"24px\">\n",
              "    <path d=\"M0 0h24v24H0V0z\" fill=\"none\"/>\n",
              "    <path d=\"M18.56 5.44l.94 2.06.94-2.06 2.06-.94-2.06-.94-.94-2.06-.94 2.06-2.06.94zm-11 1L8.5 8.5l.94-2.06 2.06-.94-2.06-.94L8.5 2.5l-.94 2.06-2.06.94zm10 10l.94 2.06.94-2.06 2.06-.94-2.06-.94-.94-2.06-.94 2.06-2.06.94z\"/><path d=\"M17.41 7.96l-1.37-1.37c-.4-.4-.92-.59-1.43-.59-.52 0-1.04.2-1.43.59L10.3 9.45l-7.72 7.72c-.78.78-.78 2.05 0 2.83L4 21.41c.39.39.9.59 1.41.59.51 0 1.02-.2 1.41-.59l7.78-7.78 2.81-2.81c.8-.78.8-2.07 0-2.86zM5.41 20L4 18.59l7.72-7.72 1.47 1.35L5.41 20z\"/>\n",
              "  </svg>\n",
              "      </button>\n",
              "      \n",
              "  <style>\n",
              "    .colab-df-container {\n",
              "      display:flex;\n",
              "      flex-wrap:wrap;\n",
              "      gap: 12px;\n",
              "    }\n",
              "\n",
              "    .colab-df-convert {\n",
              "      background-color: #E8F0FE;\n",
              "      border: none;\n",
              "      border-radius: 50%;\n",
              "      cursor: pointer;\n",
              "      display: none;\n",
              "      fill: #1967D2;\n",
              "      height: 32px;\n",
              "      padding: 0 0 0 0;\n",
              "      width: 32px;\n",
              "    }\n",
              "\n",
              "    .colab-df-convert:hover {\n",
              "      background-color: #E2EBFA;\n",
              "      box-shadow: 0px 1px 2px rgba(60, 64, 67, 0.3), 0px 1px 3px 1px rgba(60, 64, 67, 0.15);\n",
              "      fill: #174EA6;\n",
              "    }\n",
              "\n",
              "    [theme=dark] .colab-df-convert {\n",
              "      background-color: #3B4455;\n",
              "      fill: #D2E3FC;\n",
              "    }\n",
              "\n",
              "    [theme=dark] .colab-df-convert:hover {\n",
              "      background-color: #434B5C;\n",
              "      box-shadow: 0px 1px 3px 1px rgba(0, 0, 0, 0.15);\n",
              "      filter: drop-shadow(0px 1px 2px rgba(0, 0, 0, 0.3));\n",
              "      fill: #FFFFFF;\n",
              "    }\n",
              "  </style>\n",
              "\n",
              "      <script>\n",
              "        const buttonEl =\n",
              "          document.querySelector('#df-1cabc02c-f957-400c-8acf-5fb8b4f8b245 button.colab-df-convert');\n",
              "        buttonEl.style.display =\n",
              "          google.colab.kernel.accessAllowed ? 'block' : 'none';\n",
              "\n",
              "        async function convertToInteractive(key) {\n",
              "          const element = document.querySelector('#df-1cabc02c-f957-400c-8acf-5fb8b4f8b245');\n",
              "          const dataTable =\n",
              "            await google.colab.kernel.invokeFunction('convertToInteractive',\n",
              "                                                     [key], {});\n",
              "          if (!dataTable) return;\n",
              "\n",
              "          const docLinkHtml = 'Like what you see? Visit the ' +\n",
              "            '<a target=\"_blank\" href=https://colab.research.google.com/notebooks/data_table.ipynb>data table notebook</a>'\n",
              "            + ' to learn more about interactive tables.';\n",
              "          element.innerHTML = '';\n",
              "          dataTable['output_type'] = 'display_data';\n",
              "          await google.colab.output.renderOutput(dataTable, element);\n",
              "          const docLink = document.createElement('div');\n",
              "          docLink.innerHTML = docLinkHtml;\n",
              "          element.appendChild(docLink);\n",
              "        }\n",
              "      </script>\n",
              "    </div>\n",
              "  </div>\n",
              "  "
            ]
          },
          "metadata": {},
          "execution_count": 29
        }
      ]
    },
    {
      "cell_type": "markdown",
      "source": [
        "_**Classiffication**_"
      ],
      "metadata": {
        "id": "OGoxEwJPvjPq"
      }
    },
    {
      "cell_type": "code",
      "source": [
        "X = dt.iloc[:, [1, 2, 3]].values\n",
        "y = dt.iloc[:, -1].values"
      ],
      "metadata": {
        "id": "-JSokXFJtjyF"
      },
      "execution_count": 30,
      "outputs": []
    },
    {
      "cell_type": "code",
      "source": [
        "# Karena dataset berisi variabel karakter, maka harus menyandikannya menggunakan LabelEncoder\n",
        "from sklearn.preprocessing import LabelEncoder\n",
        "le = LabelEncoder()\n",
        "X[:,0] = le.fit_transform(X[:,0])"
      ],
      "metadata": {
        "id": "tSat4zjrPKVM"
      },
      "execution_count": 31,
      "outputs": []
    },
    {
      "cell_type": "code",
      "source": [
        "# Memisahkan dataset ke dalam set Pelatihan dan set Tes\n",
        "from sklearn.model_selection import train_test_split\n",
        "X_train, X_test, y_train, y_test = train_test_split(X, y, test_size = 0.20, random_state = 0)"
      ],
      "metadata": {
        "id": "iVHBxMFPPQ0v"
      },
      "execution_count": 32,
      "outputs": []
    },
    {
      "cell_type": "code",
      "source": [
        "# Penskalaan Fitur\n",
        "from sklearn.preprocessing import StandardScaler\n",
        "sc = StandardScaler()\n",
        "X_train = sc.fit_transform(X_train)\n",
        "X_test = sc.transform(X_test)"
      ],
      "metadata": {
        "id": "JHOE4T1VPUQf"
      },
      "execution_count": 33,
      "outputs": []
    },
    {
      "cell_type": "markdown",
      "source": [
        "Menggunakan 3 parameter dalam pembuatan model. n_neighbors diatur sebagai 5, yang berarti 5 titik lingkungan diperlukan untuk mengklasifikasikan titik tertentu. Metrik jarak yang digunakan adalah Minkowski. \n",
        "\n",
        "Sesuai persamaan, kita harus memilih nilai p juga.\n",
        "- p = 1 , Jarak Manhattan\n",
        "- p = 2 , Jarak Euclidean\n",
        "- p = tak terhingga , Jarak Cheybchev\n",
        "\n",
        "Memilih p sebagai 2 (juga dapat memilih metrik sebagai \"euclidean\") Model dibuat, sekarang harus memprediksi output untuk set tes"
      ],
      "metadata": {
        "id": "sIW5U0w4pUfC"
      }
    },
    {
      "cell_type": "code",
      "source": [
        "# Melatih model K-NN pada set Pelatihan\n",
        "from sklearn.neighbors import KNeighborsClassifier\n",
        "classifier = KNeighborsClassifier(n_neighbors = 5, metric = 'minkowski', p = 2)\n",
        "classifier.fit(X_train, y_train)"
      ],
      "metadata": {
        "colab": {
          "base_uri": "https://localhost:8080/"
        },
        "id": "YatlKTokPVA3",
        "outputId": "72450717-30ab-4202-fcf6-43f06e0cd484"
      },
      "execution_count": 34,
      "outputs": [
        {
          "output_type": "execute_result",
          "data": {
            "text/plain": [
              "KNeighborsClassifier()"
            ]
          },
          "metadata": {},
          "execution_count": 34
        }
      ]
    },
    {
      "cell_type": "code",
      "source": [
        "# Memprediksi hasil set Tes\n",
        "y_pred = classifier.predict(X_test)"
      ],
      "metadata": {
        "id": "a20cavsXPZey"
      },
      "execution_count": 35,
      "outputs": []
    },
    {
      "cell_type": "markdown",
      "source": [
        "Membandingkan nilai benar dan nilai prediksi :"
      ],
      "metadata": {
        "id": "p-OfGdQ6RL_H"
      }
    },
    {
      "cell_type": "code",
      "source": [
        "y_test"
      ],
      "metadata": {
        "colab": {
          "base_uri": "https://localhost:8080/"
        },
        "id": "jj3SZ8EhPcv-",
        "outputId": "a41ac625-bf32-4cb4-9b61-3b340849027a"
      },
      "execution_count": 36,
      "outputs": [
        {
          "output_type": "execute_result",
          "data": {
            "text/plain": [
              "array(['whether he/she donated blood in March 2266',\n",
              "       'whether he/she donated blood in March 2529',\n",
              "       'whether he/she donated blood in March 2022',\n",
              "       'whether he/she donated blood in March 2039',\n",
              "       'whether he/she donated blood in March 2513',\n",
              "       'whether he/she donated blood in March 2087',\n",
              "       'whether he/she donated blood in March 2390',\n",
              "       'whether he/she donated blood in March 2083',\n",
              "       'whether he/she donated blood in March 2479',\n",
              "       'whether he/she donated blood in March 2035',\n",
              "       'whether he/she donated blood in March 2650',\n",
              "       'whether he/she donated blood in March 2375',\n",
              "       'whether he/she donated blood in March 2591',\n",
              "       'whether he/she donated blood in March 2530',\n",
              "       'whether he/she donated blood in March 2048',\n",
              "       'whether he/she donated blood in March 2727',\n",
              "       'whether he/she donated blood in March 2291',\n",
              "       'whether he/she donated blood in March 2465',\n",
              "       'whether he/she donated blood in March 2393',\n",
              "       'whether he/she donated blood in March 2121',\n",
              "       'whether he/she donated blood in March 2345',\n",
              "       'whether he/she donated blood in March 2258',\n",
              "       'whether he/she donated blood in March 2346',\n",
              "       'whether he/she donated blood in March 2238',\n",
              "       'whether he/she donated blood in March 2640',\n",
              "       'whether he/she donated blood in March 2611',\n",
              "       'whether he/she donated blood in March 2165',\n",
              "       'whether he/she donated blood in March 2063',\n",
              "       'whether he/she donated blood in March 2408',\n",
              "       'whether he/she donated blood in March 2341',\n",
              "       'whether he/she donated blood in March 2016',\n",
              "       'whether he/she donated blood in March 2664',\n",
              "       'whether he/she donated blood in March 2505',\n",
              "       'whether he/she donated blood in March 2576',\n",
              "       'whether he/she donated blood in March 2678',\n",
              "       'whether he/she donated blood in March 2223',\n",
              "       'whether he/she donated blood in March 2711',\n",
              "       'whether he/she donated blood in March 2572',\n",
              "       'whether he/she donated blood in March 2280',\n",
              "       'whether he/she donated blood in March 2420',\n",
              "       'whether he/she donated blood in March 2257',\n",
              "       'whether he/she donated blood in March 2651',\n",
              "       'whether he/she donated blood in March 2239',\n",
              "       'whether he/she donated blood in March 2009',\n",
              "       'whether he/she donated blood in March 2398',\n",
              "       'whether he/she donated blood in March 2435',\n",
              "       'whether he/she donated blood in March 2609',\n",
              "       'whether he/she donated blood in March 2654',\n",
              "       'whether he/she donated blood in March 2521',\n",
              "       'whether he/she donated blood in March 2260',\n",
              "       'whether he/she donated blood in March 2407',\n",
              "       'whether he/she donated blood in March 2204',\n",
              "       'whether he/she donated blood in March 2293',\n",
              "       'whether he/she donated blood in March 2672',\n",
              "       'whether he/she donated blood in March 2377',\n",
              "       'whether he/she donated blood in March 2546',\n",
              "       'whether he/she donated blood in March 2689',\n",
              "       'whether he/she donated blood in March 2586',\n",
              "       'whether he/she donated blood in March 2360',\n",
              "       'whether he/she donated blood in March 2309',\n",
              "       'whether he/she donated blood in March 2644',\n",
              "       'whether he/she donated blood in March 2178',\n",
              "       'whether he/she donated blood in March 2093',\n",
              "       'whether he/she donated blood in March 2556',\n",
              "       'whether he/she donated blood in March 2616',\n",
              "       'whether he/she donated blood in March 2622',\n",
              "       'whether he/she donated blood in March 2307',\n",
              "       'whether he/she donated blood in March 2653',\n",
              "       'whether he/she donated blood in March 2502',\n",
              "       'whether he/she donated blood in March 2512',\n",
              "       'whether he/she donated blood in March 2374',\n",
              "       'whether he/she donated blood in March 2326',\n",
              "       'whether he/she donated blood in March 2596',\n",
              "       'whether he/she donated blood in March 2577',\n",
              "       'whether he/she donated blood in March 2363',\n",
              "       'whether he/she donated blood in March 2219',\n",
              "       'whether he/she donated blood in March 2566',\n",
              "       'whether he/she donated blood in March 2669',\n",
              "       'whether he/she donated blood in March 2535',\n",
              "       'whether he/she donated blood in March 2542',\n",
              "       'whether he/she donated blood in March 2026',\n",
              "       'whether he/she donated blood in March 2251',\n",
              "       'whether he/she donated blood in March 2111',\n",
              "       'whether he/she donated blood in March 2311',\n",
              "       'whether he/she donated blood in March 2534',\n",
              "       'whether he/she donated blood in March 2058',\n",
              "       'whether he/she donated blood in March 2222',\n",
              "       'whether he/she donated blood in March 2548',\n",
              "       'whether he/she donated blood in March 2436',\n",
              "       'whether he/she donated blood in March 2507',\n",
              "       'whether he/she donated blood in March 2362',\n",
              "       'whether he/she donated blood in March 2503',\n",
              "       'whether he/she donated blood in March 2018',\n",
              "       'whether he/she donated blood in March 2076',\n",
              "       'whether he/she donated blood in March 2508',\n",
              "       'whether he/she donated blood in March 2528',\n",
              "       'whether he/she donated blood in March 2519',\n",
              "       'whether he/she donated blood in March 2749',\n",
              "       'whether he/she donated blood in March 2554',\n",
              "       'whether he/she donated blood in March 2595',\n",
              "       'whether he/she donated blood in March 2538',\n",
              "       'whether he/she donated blood in March 2286',\n",
              "       'whether he/she donated blood in March 2274',\n",
              "       'whether he/she donated blood in March 2210',\n",
              "       'whether he/she donated blood in March 2700',\n",
              "       'whether he/she donated blood in March 2399',\n",
              "       'whether he/she donated blood in March 2490',\n",
              "       'whether he/she donated blood in March 2580',\n",
              "       'whether he/she donated blood in March 2557',\n",
              "       'whether he/she donated blood in March 2734',\n",
              "       'whether he/she donated blood in March 2180',\n",
              "       'whether he/she donated blood in March 2462',\n",
              "       'whether he/she donated blood in March 2368',\n",
              "       'whether he/she donated blood in March 2388',\n",
              "       'whether he/she donated blood in March 2599',\n",
              "       'whether he/she donated blood in March 2473',\n",
              "       'whether he/she donated blood in March 2079',\n",
              "       'whether he/she donated blood in March 2057',\n",
              "       'whether he/she donated blood in March 2466',\n",
              "       'whether he/she donated blood in March 2501',\n",
              "       'whether he/she donated blood in March 2130',\n",
              "       'whether he/she donated blood in March 2569',\n",
              "       'whether he/she donated blood in March 2632',\n",
              "       'whether he/she donated blood in March 2474',\n",
              "       'whether he/she donated blood in March 2045',\n",
              "       'whether he/she donated blood in March 2359',\n",
              "       'whether he/she donated blood in March 2056',\n",
              "       'whether he/she donated blood in March 2218',\n",
              "       'whether he/she donated blood in March 2663',\n",
              "       'whether he/she donated blood in March 2279',\n",
              "       'whether he/she donated blood in March 2201',\n",
              "       'whether he/she donated blood in March 2150',\n",
              "       'whether he/she donated blood in March 2084',\n",
              "       'whether he/she donated blood in March 2072',\n",
              "       'whether he/she donated blood in March 2648',\n",
              "       'whether he/she donated blood in March 2060',\n",
              "       'whether he/she donated blood in March 2495',\n",
              "       'whether he/she donated blood in March 2405',\n",
              "       'whether he/she donated blood in March 2460',\n",
              "       'whether he/she donated blood in March 2321',\n",
              "       'whether he/she donated blood in March 2571',\n",
              "       'whether he/she donated blood in March 2325',\n",
              "       'whether he/she donated blood in March 2189',\n",
              "       'whether he/she donated blood in March 2212',\n",
              "       'whether he/she donated blood in March 2126',\n",
              "       'whether he/she donated blood in March 2617',\n",
              "       'whether he/she donated blood in March 2195',\n",
              "       'whether he/she donated blood in March 2726',\n",
              "       'whether he/she donated blood in March 2301',\n",
              "       'whether he/she donated blood in March 2424'], dtype=object)"
            ]
          },
          "metadata": {},
          "execution_count": 36
        }
      ]
    },
    {
      "cell_type": "code",
      "source": [
        "y_pred"
      ],
      "metadata": {
        "colab": {
          "base_uri": "https://localhost:8080/"
        },
        "id": "0u65WQMcPfcd",
        "outputId": "4a3a5294-46c2-41bc-e680-526c15401d92"
      },
      "execution_count": 37,
      "outputs": [
        {
          "output_type": "execute_result",
          "data": {
            "text/plain": [
              "array(['whether he/she donated blood in March 2344',\n",
              "       'whether he/she donated blood in March 2059',\n",
              "       'whether he/she donated blood in March 2030',\n",
              "       'whether he/she donated blood in March 2020',\n",
              "       'whether he/she donated blood in March 2017',\n",
              "       'whether he/she donated blood in March 2082',\n",
              "       'whether he/she donated blood in March 2386',\n",
              "       'whether he/she donated blood in March 2082',\n",
              "       'whether he/she donated blood in March 2383',\n",
              "       'whether he/she donated blood in March 2015',\n",
              "       'whether he/she donated blood in March 2159',\n",
              "       'whether he/she donated blood in March 2190',\n",
              "       'whether he/she donated blood in March 2161',\n",
              "       'whether he/she donated blood in March 2015',\n",
              "       'whether he/she donated blood in March 2021',\n",
              "       'whether he/she donated blood in March 2397',\n",
              "       'whether he/she donated blood in March 2214',\n",
              "       'whether he/she donated blood in March 2461',\n",
              "       'whether he/she donated blood in March 2215',\n",
              "       'whether he/she donated blood in March 2069',\n",
              "       'whether he/she donated blood in March 2158',\n",
              "       'whether he/she donated blood in March 2147',\n",
              "       'whether he/she donated blood in March 2352',\n",
              "       'whether he/she donated blood in March 2226',\n",
              "       'whether he/she donated blood in March 2250',\n",
              "       'whether he/she donated blood in March 2043',\n",
              "       'whether he/she donated blood in March 2161',\n",
              "       'whether he/she donated blood in March 2052',\n",
              "       'whether he/she donated blood in March 2270',\n",
              "       'whether he/she donated blood in March 2158',\n",
              "       'whether he/she donated blood in March 2032',\n",
              "       'whether he/she donated blood in March 2323',\n",
              "       'whether he/she donated blood in March 2504',\n",
              "       'whether he/she donated blood in March 2141',\n",
              "       'whether he/she donated blood in March 2370',\n",
              "       'whether he/she donated blood in March 2226',\n",
              "       'whether he/she donated blood in March 2414',\n",
              "       'whether he/she donated blood in March 2149',\n",
              "       'whether he/she donated blood in March 2214',\n",
              "       'whether he/she donated blood in March 2414',\n",
              "       'whether he/she donated blood in March 2147',\n",
              "       'whether he/she donated blood in March 2144',\n",
              "       'whether he/she donated blood in March 2226',\n",
              "       'whether he/she donated blood in March 2015',\n",
              "       'whether he/she donated blood in March 2401',\n",
              "       'whether he/she donated blood in March 2259',\n",
              "       'whether he/she donated blood in March 2205',\n",
              "       'whether he/she donated blood in March 2202',\n",
              "       'whether he/she donated blood in March 2010',\n",
              "       'whether he/she donated blood in March 2134',\n",
              "       'whether he/she donated blood in March 2250',\n",
              "       'whether he/she donated blood in March 2069',\n",
              "       'whether he/she donated blood in March 2202',\n",
              "       'whether he/she donated blood in March 2352',\n",
              "       'whether he/she donated blood in March 2144',\n",
              "       'whether he/she donated blood in March 2069',\n",
              "       'whether he/she donated blood in March 2334',\n",
              "       'whether he/she donated blood in March 2049',\n",
              "       'whether he/she donated blood in March 2203',\n",
              "       'whether he/she donated blood in March 2202',\n",
              "       'whether he/she donated blood in March 2272',\n",
              "       'whether he/she donated blood in March 2161',\n",
              "       'whether he/she donated blood in March 2092',\n",
              "       'whether he/she donated blood in March 2109',\n",
              "       'whether he/she donated blood in March 2226',\n",
              "       'whether he/she donated blood in March 2226',\n",
              "       'whether he/she donated blood in March 2202',\n",
              "       'whether he/she donated blood in March 2202',\n",
              "       'whether he/she donated blood in March 2449',\n",
              "       'whether he/she donated blood in March 2012',\n",
              "       'whether he/she donated blood in March 2025',\n",
              "       'whether he/she donated blood in March 2148',\n",
              "       'whether he/she donated blood in March 2161',\n",
              "       'whether he/she donated blood in March 2205',\n",
              "       'whether he/she donated blood in March 2334',\n",
              "       'whether he/she donated blood in March 2226',\n",
              "       'whether he/she donated blood in March 2049',\n",
              "       'whether he/she donated blood in March 2214',\n",
              "       'whether he/she donated blood in March 2042',\n",
              "       'whether he/she donated blood in March 2092',\n",
              "       'whether he/she donated blood in March 2030',\n",
              "       'whether he/she donated blood in March 2066',\n",
              "       'whether he/she donated blood in March 2112',\n",
              "       'whether he/she donated blood in March 2396',\n",
              "       'whether he/she donated blood in March 2049',\n",
              "       'whether he/she donated blood in March 2044',\n",
              "       'whether he/she donated blood in March 2226',\n",
              "       'whether he/she donated blood in March 2092',\n",
              "       'whether he/she donated blood in March 2344',\n",
              "       'whether he/she donated blood in March 2449',\n",
              "       'whether he/she donated blood in March 2300',\n",
              "       'whether he/she donated blood in March 2381',\n",
              "       'whether he/she donated blood in March 2012',\n",
              "       'whether he/she donated blood in March 2047',\n",
              "       'whether he/she donated blood in March 2008',\n",
              "       'whether he/she donated blood in March 2015',\n",
              "       'whether he/she donated blood in March 2029',\n",
              "       'whether he/she donated blood in March 2276',\n",
              "       'whether he/she donated blood in March 2021',\n",
              "       'whether he/she donated blood in March 2161',\n",
              "       'whether he/she donated blood in March 2049',\n",
              "       'whether he/she donated blood in March 2066',\n",
              "       'whether he/she donated blood in March 2270',\n",
              "       'whether he/she donated blood in March 2147',\n",
              "       'whether he/she donated blood in March 2386',\n",
              "       'whether he/she donated blood in March 2381',\n",
              "       'whether he/she donated blood in March 2485',\n",
              "       'whether he/she donated blood in March 2147',\n",
              "       'whether he/she donated blood in March 2068',\n",
              "       'whether he/she donated blood in March 2205',\n",
              "       'whether he/she donated blood in March 2161',\n",
              "       'whether he/she donated blood in March 2461',\n",
              "       'whether he/she donated blood in March 2205',\n",
              "       'whether he/she donated blood in March 2386',\n",
              "       'whether he/she donated blood in March 2015',\n",
              "       'whether he/she donated blood in March 2272',\n",
              "       'whether he/she donated blood in March 2078',\n",
              "       'whether he/she donated blood in March 2055',\n",
              "       'whether he/she donated blood in March 2461',\n",
              "       'whether he/she donated blood in March 2449',\n",
              "       'whether he/she donated blood in March 2159',\n",
              "       'whether he/she donated blood in March 2077',\n",
              "       'whether he/she donated blood in March 2116',\n",
              "       'whether he/she donated blood in March 2246',\n",
              "       'whether he/she donated blood in March 2030',\n",
              "       'whether he/she donated blood in March 2361',\n",
              "       'whether he/she donated blood in March 2055',\n",
              "       'whether he/she donated blood in March 2226',\n",
              "       'whether he/she donated blood in March 2066',\n",
              "       'whether he/she donated blood in March 2065',\n",
              "       'whether he/she donated blood in March 2059',\n",
              "       'whether he/she donated blood in March 2128',\n",
              "       'whether he/she donated blood in March 2078',\n",
              "       'whether he/she donated blood in March 2019',\n",
              "       'whether he/she donated blood in March 2136',\n",
              "       'whether he/she donated blood in March 2067',\n",
              "       'whether he/she donated blood in March 2283',\n",
              "       'whether he/she donated blood in March 2250',\n",
              "       'whether he/she donated blood in March 2323',\n",
              "       'whether he/she donated blood in March 2322',\n",
              "       'whether he/she donated blood in March 2059',\n",
              "       'whether he/she donated blood in March 2132',\n",
              "       'whether he/she donated blood in March 2078',\n",
              "       'whether he/she donated blood in March 2054',\n",
              "       'whether he/she donated blood in March 2158',\n",
              "       'whether he/she donated blood in March 2226',\n",
              "       'whether he/she donated blood in March 2132',\n",
              "       'whether he/she donated blood in March 2263',\n",
              "       'whether he/she donated blood in March 2133',\n",
              "       'whether he/she donated blood in March 2414'], dtype=object)"
            ]
          },
          "metadata": {},
          "execution_count": 37
        }
      ]
    },
    {
      "cell_type": "code",
      "source": [
        "# Membuat Matriks Kebingungan\n",
        "from sklearn.metrics import confusion_matrix,accuracy_score\n",
        "cm = confusion_matrix(y_test, y_pred)\n",
        "ac = accuracy_score(y_test,y_pred)"
      ],
      "metadata": {
        "id": "e9pV2c-fP6is"
      },
      "execution_count": 38,
      "outputs": []
    },
    {
      "cell_type": "code",
      "source": [
        "cm"
      ],
      "metadata": {
        "colab": {
          "base_uri": "https://localhost:8080/"
        },
        "id": "fpLy-qwUq5pC",
        "outputId": "6967429e-3b37-44ad-dddb-95d5ea45e811"
      },
      "execution_count": 39,
      "outputs": [
        {
          "output_type": "execute_result",
          "data": {
            "text/plain": [
              "array([[0, 0, 0, ..., 0, 0, 0],\n",
              "       [0, 0, 0, ..., 0, 0, 0],\n",
              "       [0, 0, 0, ..., 0, 0, 0],\n",
              "       ...,\n",
              "       [0, 0, 0, ..., 0, 0, 0],\n",
              "       [0, 0, 0, ..., 0, 0, 0],\n",
              "       [0, 0, 0, ..., 0, 0, 0]])"
            ]
          },
          "metadata": {},
          "execution_count": 39
        }
      ]
    },
    {
      "cell_type": "code",
      "source": [
        "ac"
      ],
      "metadata": {
        "colab": {
          "base_uri": "https://localhost:8080/"
        },
        "id": "qTrvgp8UrPXP",
        "outputId": "f7d47a62-1a12-4954-f353-f53456468529"
      },
      "execution_count": 40,
      "outputs": [
        {
          "output_type": "execute_result",
          "data": {
            "text/plain": [
              "0.0"
            ]
          },
          "metadata": {},
          "execution_count": 40
        }
      ]
    },
    {
      "cell_type": "code",
      "source": [
        "# Karena whether_he/she_donated_blood_in_March_2007 bukanlah ukuran fisik semata, sebaiknya hapus dari dataset. Bisa di hapus kolom whether_he/she_donated_blood_in_March_2007 menggunakan .drop:\n",
        "dt = dt.drop(\"whether_he/she_donated_blood_in_March_2007\", axis=1)"
      ],
      "metadata": {
        "id": "iIqbyAadtsn6"
      },
      "execution_count": 41,
      "outputs": []
    },
    {
      "cell_type": "markdown",
      "source": [
        "**Statistik Deskriptif Dari Frequency_(times) Dataset**"
      ],
      "metadata": {
        "id": "IIwSRi4h1EYz"
      }
    },
    {
      "cell_type": "code",
      "source": [
        "dt[\"Frequency_(times)\"].hist(bins= 15)\n",
        "plt.show()"
      ],
      "metadata": {
        "colab": {
          "base_uri": "https://localhost:8080/",
          "height": 265
        },
        "id": "V0QmHAmYt41s",
        "outputId": "2dc7eee4-84de-4a11-9df0-63630cac38c9"
      },
      "execution_count": 42,
      "outputs": [
        {
          "output_type": "display_data",
          "data": {
            "text/plain": [
              "<Figure size 432x288 with 1 Axes>"
            ],
            "image/png": "[encoded data removed]"
          },
          "metadata": {
            "needs_background": "light"
          }
        }
      ]
    },
    {
      "cell_type": "code",
      "source": [
        "# Dapat diamati matriks korelasi lengkap dalam korelasi_matriks.\n",
        "correlation_matrix = dt.corr()\n",
        "correlation_matrix[\"Frequency_(times)\"]"
      ],
      "metadata": {
        "colab": {
          "base_uri": "https://localhost:8080/"
        },
        "id": "fX2_ZlMNuTnY",
        "outputId": "7dbbb75f-08b7-4377-ab4e-8dcbd3e94940"
      },
      "execution_count": 43,
      "outputs": [
        {
          "output_type": "execute_result",
          "data": {
            "text/plain": [
              "Recency_(months)        -0.182745\n",
              "Frequency_(times)        1.000000\n",
              "Monetary_(c.c. blood)    1.000000\n",
              "Time_(months)            0.634940\n",
              "Name: Frequency_(times), dtype: float64"
            ]
          },
          "metadata": {},
          "execution_count": 43
        }
      ]
    },
    {
      "cell_type": "markdown",
      "source": [
        "Tentukan \"Nearest\" Menggunakan Definisi Matematika Jarak"
      ],
      "metadata": {
        "id": "Mul4YoLQvdrp"
      }
    },
    {
      "cell_type": "code",
      "source": [
        "# Dapat menghitung ini dengan Python menggunakan linalg.norm() dari NumPy.\n",
        "a = np.array([2, 2])\n",
        "b = np.array([4, 4])\n",
        "np.linalg.norm(a - b)"
      ],
      "metadata": {
        "colab": {
          "base_uri": "https://localhost:8080/"
        },
        "id": "PHFl_0VzvIr9",
        "outputId": "88f6929e-35ed-4f6c-d9e5-1cb31ae6c431"
      },
      "execution_count": 44,
      "outputs": [
        {
          "output_type": "execute_result",
          "data": {
            "text/plain": [
              "2.8284271247461903"
            ]
          },
          "metadata": {},
          "execution_count": 44
        }
      ]
    },
    {
      "cell_type": "markdown",
      "source": [
        "#Random Forests"
      ],
      "metadata": {
        "id": "caecPjrB6gsc"
      }
    },
    {
      "cell_type": "code",
      "source": [
        "dt.head()"
      ],
      "metadata": {
        "colab": {
          "base_uri": "https://localhost:8080/",
          "height": 206
        },
        "id": "lo1GgEAYOjmI",
        "outputId": "1db6aee8-5b56-49dd-d371-0aef1e50aa55"
      },
      "execution_count": 45,
      "outputs": [
        {
          "output_type": "execute_result",
          "data": {
            "text/plain": [
              "   Recency_(months)  Frequency_(times)  Monetary_(c.c. blood)  Time_(months)\n",
              "0                 2                 50                  12500             98\n",
              "1                 0                 13                   3250             28\n",
              "2                 1                 16                   4000             35\n",
              "3                 2                 20                   5000             45\n",
              "4                 1                 24                   6000             77"
            ],
            "text/html": [
              "\n",
              "  <div id=\"df-1147556e-9135-4065-9edc-d1b4db02321e\">\n",
              "    <div class=\"colab-df-container\">\n",
              "      <div>\n",
              "<style scoped>\n",
              "    .dataframe tbody tr th:only-of-type {\n",
              "        vertical-align: middle;\n",
              "    }\n",
              "\n",
              "    .dataframe tbody tr th {\n",
              "        vertical-align: top;\n",
              "    }\n",
              "\n",
              "    .dataframe thead th {\n",
              "        text-align: right;\n",
              "    }\n",
              "</style>\n",
              "<table border=\"1\" class=\"dataframe\">\n",
              "  <thead>\n",
              "    <tr style=\"text-align: right;\">\n",
              "      <th></th>\n",
              "      <th>Recency_(months)</th>\n",
              "      <th>Frequency_(times)</th>\n",
              "      <th>Monetary_(c.c. blood)</th>\n",
              "      <th>Time_(months)</th>\n",
              "    </tr>\n",
              "  </thead>\n",
              "  <tbody>\n",
              "    <tr>\n",
              "      <th>0</th>\n",
              "      <td>2</td>\n",
              "      <td>50</td>\n",
              "      <td>12500</td>\n",
              "      <td>98</td>\n",
              "    </tr>\n",
              "    <tr>\n",
              "      <th>1</th>\n",
              "      <td>0</td>\n",
              "      <td>13</td>\n",
              "      <td>3250</td>\n",
              "      <td>28</td>\n",
              "    </tr>\n",
              "    <tr>\n",
              "      <th>2</th>\n",
              "      <td>1</td>\n",
              "      <td>16</td>\n",
              "      <td>4000</td>\n",
              "      <td>35</td>\n",
              "    </tr>\n",
              "    <tr>\n",
              "      <th>3</th>\n",
              "      <td>2</td>\n",
              "      <td>20</td>\n",
              "      <td>5000</td>\n",
              "      <td>45</td>\n",
              "    </tr>\n",
              "    <tr>\n",
              "      <th>4</th>\n",
              "      <td>1</td>\n",
              "      <td>24</td>\n",
              "      <td>6000</td>\n",
              "      <td>77</td>\n",
              "    </tr>\n",
              "  </tbody>\n",
              "</table>\n",
              "</div>\n",
              "      <button class=\"colab-df-convert\" onclick=\"convertToInteractive('df-1147556e-9135-4065-9edc-d1b4db02321e')\"\n",
              "              title=\"Convert this dataframe to an interactive table.\"\n",
              "              style=\"display:none;\">\n",
              "        \n",
              "  <svg xmlns=\"http://www.w3.org/2000/svg\" height=\"24px\"viewBox=\"0 0 24 24\"\n",
              "       width=\"24px\">\n",
              "    <path d=\"M0 0h24v24H0V0z\" fill=\"none\"/>\n",
              "    <path d=\"M18.56 5.44l.94 2.06.94-2.06 2.06-.94-2.06-.94-.94-2.06-.94 2.06-2.06.94zm-11 1L8.5 8.5l.94-2.06 2.06-.94-2.06-.94L8.5 2.5l-.94 2.06-2.06.94zm10 10l.94 2.06.94-2.06 2.06-.94-2.06-.94-.94-2.06-.94 2.06-2.06.94z\"/><path d=\"M17.41 7.96l-1.37-1.37c-.4-.4-.92-.59-1.43-.59-.52 0-1.04.2-1.43.59L10.3 9.45l-7.72 7.72c-.78.78-.78 2.05 0 2.83L4 21.41c.39.39.9.59 1.41.59.51 0 1.02-.2 1.41-.59l7.78-7.78 2.81-2.81c.8-.78.8-2.07 0-2.86zM5.41 20L4 18.59l7.72-7.72 1.47 1.35L5.41 20z\"/>\n",
              "  </svg>\n",
              "      </button>\n",
              "      \n",
              "  <style>\n",
              "    .colab-df-container {\n",
              "      display:flex;\n",
              "      flex-wrap:wrap;\n",
              "      gap: 12px;\n",
              "    }\n",
              "\n",
              "    .colab-df-convert {\n",
              "      background-color: #E8F0FE;\n",
              "      border: none;\n",
              "      border-radius: 50%;\n",
              "      cursor: pointer;\n",
              "      display: none;\n",
              "      fill: #1967D2;\n",
              "      height: 32px;\n",
              "      padding: 0 0 0 0;\n",
              "      width: 32px;\n",
              "    }\n",
              "\n",
              "    .colab-df-convert:hover {\n",
              "      background-color: #E2EBFA;\n",
              "      box-shadow: 0px 1px 2px rgba(60, 64, 67, 0.3), 0px 1px 3px 1px rgba(60, 64, 67, 0.15);\n",
              "      fill: #174EA6;\n",
              "    }\n",
              "\n",
              "    [theme=dark] .colab-df-convert {\n",
              "      background-color: #3B4455;\n",
              "      fill: #D2E3FC;\n",
              "    }\n",
              "\n",
              "    [theme=dark] .colab-df-convert:hover {\n",
              "      background-color: #434B5C;\n",
              "      box-shadow: 0px 1px 3px 1px rgba(0, 0, 0, 0.15);\n",
              "      filter: drop-shadow(0px 1px 2px rgba(0, 0, 0, 0.3));\n",
              "      fill: #FFFFFF;\n",
              "    }\n",
              "  </style>\n",
              "\n",
              "      <script>\n",
              "        const buttonEl =\n",
              "          document.querySelector('#df-1147556e-9135-4065-9edc-d1b4db02321e button.colab-df-convert');\n",
              "        buttonEl.style.display =\n",
              "          google.colab.kernel.accessAllowed ? 'block' : 'none';\n",
              "\n",
              "        async function convertToInteractive(key) {\n",
              "          const element = document.querySelector('#df-1147556e-9135-4065-9edc-d1b4db02321e');\n",
              "          const dataTable =\n",
              "            await google.colab.kernel.invokeFunction('convertToInteractive',\n",
              "                                                     [key], {});\n",
              "          if (!dataTable) return;\n",
              "\n",
              "          const docLinkHtml = 'Like what you see? Visit the ' +\n",
              "            '<a target=\"_blank\" href=https://colab.research.google.com/notebooks/data_table.ipynb>data table notebook</a>'\n",
              "            + ' to learn more about interactive tables.';\n",
              "          element.innerHTML = '';\n",
              "          dataTable['output_type'] = 'display_data';\n",
              "          await google.colab.output.renderOutput(dataTable, element);\n",
              "          const docLink = document.createElement('div');\n",
              "          docLink.innerHTML = docLinkHtml;\n",
              "          element.appendChild(docLink);\n",
              "        }\n",
              "      </script>\n",
              "    </div>\n",
              "  </div>\n",
              "  "
            ]
          },
          "metadata": {},
          "execution_count": 45
        }
      ]
    },
    {
      "cell_type": "code",
      "source": [
        "#Mempersiapkan Data Untuk Pelatihan Kode dengan membagi data menjadi atribut dan label:\n",
        "X = dt.iloc[:, 0:3].values\n",
        "y = dt.iloc[:, 3].values"
      ],
      "metadata": {
        "id": "cJrWrp7hOrLn"
      },
      "execution_count": 46,
      "outputs": []
    },
    {
      "cell_type": "code",
      "source": [
        "from sklearn.ensemble import RandomForestClassifier\n",
        "rf=RandomForestClassifier()"
      ],
      "metadata": {
        "id": "KvnIjc1SHsEp"
      },
      "execution_count": 47,
      "outputs": []
    },
    {
      "cell_type": "code",
      "source": [
        "# Membuat klasifikasinya\n",
        "from sklearn.datasets import make_blobs\n",
        "\n",
        "X, y = make_blobs(n_samples=300, centers=4,\n",
        "                  random_state=0, cluster_std=1.0)\n",
        "plt.scatter(X[:, 0], X[:, 1], c=y, s=50, cmap='rainbow');"
      ],
      "metadata": {
        "id": "qtcBFYU0HtFc",
        "colab": {
          "base_uri": "https://localhost:8080/",
          "height": 265
        },
        "outputId": "b343e02f-4a77-435c-c333-49ddf086f531"
      },
      "execution_count": 48,
      "outputs": [
        {
          "output_type": "display_data",
          "data": {
            "text/plain": [
              "<Figure size 432x288 with 1 Axes>"
            ],
            "image/png": "[encoded data removed]"
          },
          "metadata": {
            "needs_background": "light"
          }
        }
      ]
    },
    {
      "cell_type": "markdown",
      "source": [
        "Proses pemasangan data kami ini dapat dilakukan di Scikit-Learn dengan estimator DecisionTreeClassifier:"
      ],
      "metadata": {
        "id": "vnGYsxxh4S6O"
      }
    },
    {
      "cell_type": "code",
      "source": [
        "from sklearn.tree import DecisionTreeClassifier\n",
        "tree = DecisionTreeClassifier().fit(X, y)"
      ],
      "metadata": {
        "id": "HDUyi2PtHxYd"
      },
      "execution_count": 49,
      "outputs": []
    },
    {
      "cell_type": "markdown",
      "source": [
        "Fungsi utilitas cepat untuk membantu kita memvisualisasikan output dari classifier:"
      ],
      "metadata": {
        "id": "4SDo3P1P4k3e"
      }
    },
    {
      "cell_type": "code",
      "source": [
        "def visualize_classifier(model, X, y, ax=None, cmap='rainbow'):\n",
        "    ax = ax or plt.gca()\n",
        "    \n",
        "    # Plot poin pelatihan\n",
        "    ax.scatter(X[:, 0], X[:, 1], c=y, s=30, cmap=cmap,\n",
        "               clim=(y.min(), y.max()), zorder=3)\n",
        "    ax.axis('tight')\n",
        "    ax.axis('off')\n",
        "    xlim = ax.get_xlim()\n",
        "    ylim = ax.get_ylim()\n",
        "    \n",
        "    # sesuai dengan penduga\n",
        "    model.fit(X, y)\n",
        "    xx, yy = np.meshgrid(np.linspace(*xlim, num=200),\n",
        "                         np.linspace(*ylim, num=200))\n",
        "    Z = model.predict(np.c_[xx.ravel(), yy.ravel()]).reshape(xx.shape)\n",
        "\n",
        "    # Buat plot warna dengan hasilnya\n",
        "    n_classes = len(np.unique(y))\n",
        "    contours = ax.contourf(xx, yy, Z, alpha=0.3,\n",
        "                           levels=np.arange(n_classes + 1) - 0.5,\n",
        "                           cmap=cmap, clim=(y.min(), y.max()),\n",
        "                           zorder=1)\n",
        "\n",
        "    ax.set(xlim=xlim, ylim=ylim)"
      ],
      "metadata": {
        "id": "jJ-iCLcTH68z"
      },
      "execution_count": 50,
      "outputs": []
    },
    {
      "cell_type": "markdown",
      "source": [
        "Sekarang kita dapat memeriksa seperti apa klasifikasinya:"
      ],
      "metadata": {
        "id": "Uy-dGb-84uqz"
      }
    },
    {
      "cell_type": "code",
      "source": [
        "visualize_classifier(DecisionTreeClassifier(), X, y)"
      ],
      "metadata": {
        "id": "1EpgZYZmH-LO",
        "colab": {
          "base_uri": "https://localhost:8080/",
          "height": 265
        },
        "outputId": "5f259612-d589-468f-844e-1a29870a7406"
      },
      "execution_count": 51,
      "outputs": [
        {
          "output_type": "stream",
          "name": "stderr",
          "text": [
            "/usr/local/lib/python3.7/dist-packages/ipykernel_launcher.py:23: UserWarning: The following kwargs were not used by contour: 'clim'\n"
          ]
        },
        {
          "output_type": "display_data",
          "data": {
            "text/plain": [
              "<Figure size 432x288 with 1 Axes>"
            ],
            "image/png": "[encoded data removed]"
          },
          "metadata": {
            "needs_background": "light"
          }
        }
      ]
    },
    {
      "cell_type": "markdown",
      "source": [
        "#Kesimpulan"
      ],
      "metadata": {
        "id": "_mQGqH5sEQNr"
      }
    },
    {
      "cell_type": "markdown",
      "source": [
        "Setelah pengujian klasifikasi pada K-Nearest Neighbor dan Random Forest selesai dilakukan, maka dapat dilihat\n",
        "hasil perbandingan dari hasil pengujian kedua metode tersebut dalam melakukan peroleh akurasi klasifikasi pada data diatas. Diketahui pada bagian sebelumnya bahwa hasil akurasi yang diperoleh dari pengujian\n",
        "pada kedua metode tersebut memperoleh hasil yang berbeda dan signifikan."
      ],
      "metadata": {
        "id": "LFiOEsu_Ek8v"
      }
    }
  ]
}