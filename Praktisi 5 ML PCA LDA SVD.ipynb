{
  "nbformat": 4,
  "nbformat_minor": 0,
  "metadata": {
    "colab": {
      "provenance": [],
      "collapsed_sections": [
        "oscwJtBLPDus",
        "ay1ccRPXQHAs",
        "qhrWIXdFRp6A"
      ]
    },
    "kernelspec": {
      "name": "python3",
      "display_name": "Python 3"
    },
    "language_info": {
      "name": "python"
    }
  },
  "cells": [
    {
      "cell_type": "markdown",
      "source": [
        "#Pertemuan ke-5 ScikitLearn (PCA, LDA dan SVD)\n",
        "Nama : Rahmaliyah Kadir\n",
        "\n",
        "Nim : H071201093"
      ],
      "metadata": {
        "id": "s0IRfQLMOy62"
      }
    },
    {
      "cell_type": "markdown",
      "source": [
        "#PCA dengan Iris Dataset"
      ],
      "metadata": {
        "id": "oscwJtBLPDus"
      }
    },
    {
      "cell_type": "code",
      "execution_count": null,
      "metadata": {
        "id": "AFQVFC8zOxxr"
      },
      "outputs": [],
      "source": [
        "#Input Library yang digunakan\n",
        "import numpy as np\n",
        "import matplotlib.pyplot as plt\n",
        "\n",
        "from sklearn import decomposition\n",
        "from sklearn import datasets"
      ]
    },
    {
      "cell_type": "code",
      "source": [
        "np.random.seed(5)"
      ],
      "metadata": {
        "id": "PAktJg93PmV2"
      },
      "execution_count": null,
      "outputs": []
    },
    {
      "cell_type": "code",
      "source": [
        "iris = datasets.load_iris()\n",
        "X = iris.data\n",
        "y = iris.target"
      ],
      "metadata": {
        "id": "HarKr5_7PvKv"
      },
      "execution_count": null,
      "outputs": []
    },
    {
      "cell_type": "code",
      "source": [
        "fig = plt.figure(1, figsize=(4, 3))\n",
        "plt.clf()"
      ],
      "metadata": {
        "id": "-9eiZBBRPx3V",
        "colab": {
          "base_uri": "https://localhost:8080/",
          "height": 34
        },
        "outputId": "2dbecb38-faa6-4267-9978-9f98f8b26e68"
      },
      "execution_count": null,
      "outputs": [
        {
          "output_type": "display_data",
          "data": {
            "text/plain": [
              "<Figure size 288x216 with 0 Axes>"
            ]
          },
          "metadata": {}
        }
      ]
    },
    {
      "cell_type": "code",
      "source": [
        "ax = fig.add_subplot(111, projection=\"3d\", elev=48, azim=134)\n",
        "ax.set_position([0, 0, 0.95, 1])"
      ],
      "metadata": {
        "id": "QPM4reCHPz1I"
      },
      "execution_count": null,
      "outputs": []
    },
    {
      "cell_type": "code",
      "source": [
        "for name, label in [(\"Setosa\", 0), (\"Versicolour\", 1), (\"Virginica\", 2)]:\n",
        "    ax.text3D(\n",
        "        X[y == label, 0].mean(),\n",
        "        X[y == label, 1].mean() + 1.5,\n",
        "        X[y == label, 2].mean(),\n",
        "        name,\n",
        "        horizontalalignment=\"center\",\n",
        "        bbox=dict(alpha=0.5, edgecolor=\"w\", facecolor=\"w\"),\n",
        "    )"
      ],
      "metadata": {
        "id": "zzh6xnR7P4d4"
      },
      "execution_count": null,
      "outputs": []
    },
    {
      "cell_type": "code",
      "source": [
        "#Susun ulang label agar memiliki warna yang cocok dengan hasil cluster\n",
        "y = np.choose(y, [1, 2, 0]).astype(float)\n",
        "ax.scatter(X[:, 0], X[:, 1], X[:, 2], c=y, cmap=plt.cm.nipy_spectral, edgecolor=\"k\")\n",
        "\n",
        "ax.w_xaxis.set_ticklabels([])\n",
        "ax.w_yaxis.set_ticklabels([])\n",
        "ax.w_zaxis.set_ticklabels([])\n",
        "plt.show()"
      ],
      "metadata": {
        "id": "KTfPurmFP2e_"
      },
      "execution_count": null,
      "outputs": []
    },
    {
      "cell_type": "markdown",
      "source": [
        "#LDA\n",
        "Perbandingan proyeksi 2D LDA dan PCA dari dataset Iris"
      ],
      "metadata": {
        "id": "ay1ccRPXQHAs"
      }
    },
    {
      "cell_type": "code",
      "source": [
        "!pip install LDA\n",
        "#Untuk pemodelan topik\n",
        "!pip3 install gensim\n",
        "#Untuk memvisualisasikan model topik\n",
        "!pip3 install pyLDAvis"
      ],
      "metadata": {
        "id": "3eGyO1BIQMJ6",
        "colab": {
          "base_uri": "https://localhost:8080/"
        },
        "outputId": "36de7e6f-abb3-432a-c69e-54d1c55f8cf9"
      },
      "execution_count": null,
      "outputs": [
        {
          "output_type": "stream",
          "name": "stdout",
          "text": [
            "Looking in indexes: https://pypi.org/simple, https://us-python.pkg.dev/colab-wheels/public/simple/\n",
            "Collecting LDA\n",
            "  Downloading lda-2.0.0-cp37-cp37m-manylinux1_x86_64.whl (351 kB)\n",
            "\u001b[K     |████████████████████████████████| 351 kB 5.0 MB/s \n",
            "\u001b[?25hRequirement already satisfied: numpy<2.0,>=1.13.0 in /usr/local/lib/python3.7/dist-packages (from LDA) (1.21.6)\n",
            "Collecting pbr<4,>=0.6\n",
            "  Downloading pbr-3.1.1-py2.py3-none-any.whl (99 kB)\n",
            "\u001b[K     |████████████████████████████████| 99 kB 5.3 MB/s \n",
            "\u001b[?25hInstalling collected packages: pbr, LDA\n",
            "Successfully installed LDA-2.0.0 pbr-3.1.1\n",
            "Looking in indexes: https://pypi.org/simple, https://us-python.pkg.dev/colab-wheels/public/simple/\n",
            "Requirement already satisfied: gensim in /usr/local/lib/python3.7/dist-packages (3.6.0)\n",
            "Requirement already satisfied: numpy>=1.11.3 in /usr/local/lib/python3.7/dist-packages (from gensim) (1.21.6)\n",
            "Requirement already satisfied: six>=1.5.0 in /usr/local/lib/python3.7/dist-packages (from gensim) (1.15.0)\n",
            "Requirement already satisfied: scipy>=0.18.1 in /usr/local/lib/python3.7/dist-packages (from gensim) (1.7.3)\n",
            "Requirement already satisfied: smart-open>=1.2.1 in /usr/local/lib/python3.7/dist-packages (from gensim) (5.2.1)\n",
            "Looking in indexes: https://pypi.org/simple, https://us-python.pkg.dev/colab-wheels/public/simple/\n",
            "Collecting pyLDAvis\n",
            "  Downloading pyLDAvis-3.3.1.tar.gz (1.7 MB)\n",
            "\u001b[K     |████████████████████████████████| 1.7 MB 5.2 MB/s \n",
            "\u001b[?25h  Installing build dependencies ... \u001b[?25l\u001b[?25hdone\n",
            "  Getting requirements to build wheel ... \u001b[?25l\u001b[?25hdone\n",
            "  Installing backend dependencies ... \u001b[?25l\u001b[?25hdone\n",
            "    Preparing wheel metadata ... \u001b[?25l\u001b[?25hdone\n",
            "Requirement already satisfied: scikit-learn in /usr/local/lib/python3.7/dist-packages (from pyLDAvis) (1.0.2)\n",
            "Requirement already satisfied: joblib in /usr/local/lib/python3.7/dist-packages (from pyLDAvis) (1.2.0)\n",
            "Collecting sklearn\n",
            "  Downloading sklearn-0.0.tar.gz (1.1 kB)\n",
            "Requirement already satisfied: gensim in /usr/local/lib/python3.7/dist-packages (from pyLDAvis) (3.6.0)\n",
            "Requirement already satisfied: pandas>=1.2.0 in /usr/local/lib/python3.7/dist-packages (from pyLDAvis) (1.3.5)\n",
            "Collecting funcy\n",
            "  Downloading funcy-1.17-py2.py3-none-any.whl (33 kB)\n",
            "Requirement already satisfied: numpy>=1.20.0 in /usr/local/lib/python3.7/dist-packages (from pyLDAvis) (1.21.6)\n",
            "Requirement already satisfied: setuptools in /usr/local/lib/python3.7/dist-packages (from pyLDAvis) (57.4.0)\n",
            "Requirement already satisfied: scipy in /usr/local/lib/python3.7/dist-packages (from pyLDAvis) (1.7.3)\n",
            "Requirement already satisfied: numexpr in /usr/local/lib/python3.7/dist-packages (from pyLDAvis) (2.8.4)\n",
            "Requirement already satisfied: jinja2 in /usr/local/lib/python3.7/dist-packages (from pyLDAvis) (2.11.3)\n",
            "Requirement already satisfied: future in /usr/local/lib/python3.7/dist-packages (from pyLDAvis) (0.16.0)\n",
            "Requirement already satisfied: python-dateutil>=2.7.3 in /usr/local/lib/python3.7/dist-packages (from pandas>=1.2.0->pyLDAvis) (2.8.2)\n",
            "Requirement already satisfied: pytz>=2017.3 in /usr/local/lib/python3.7/dist-packages (from pandas>=1.2.0->pyLDAvis) (2022.5)\n",
            "Requirement already satisfied: six>=1.5 in /usr/local/lib/python3.7/dist-packages (from python-dateutil>=2.7.3->pandas>=1.2.0->pyLDAvis) (1.15.0)\n",
            "Requirement already satisfied: smart-open>=1.2.1 in /usr/local/lib/python3.7/dist-packages (from gensim->pyLDAvis) (5.2.1)\n",
            "Requirement already satisfied: MarkupSafe>=0.23 in /usr/local/lib/python3.7/dist-packages (from jinja2->pyLDAvis) (2.0.1)\n",
            "Requirement already satisfied: threadpoolctl>=2.0.0 in /usr/local/lib/python3.7/dist-packages (from scikit-learn->pyLDAvis) (3.1.0)\n",
            "Building wheels for collected packages: pyLDAvis, sklearn\n",
            "  Building wheel for pyLDAvis (PEP 517) ... \u001b[?25l\u001b[?25hdone\n",
            "  Created wheel for pyLDAvis: filename=pyLDAvis-3.3.1-py2.py3-none-any.whl size=136898 sha256=df7b9747ee77011ef9958f4a522c7fb6d4343922b59250568463c1f200fa4d8e\n",
            "  Stored in directory: /root/.cache/pip/wheels/c9/21/f6/17bcf2667e8a68532ba2fbf6d5c72fdf4c7f7d9abfa4852d2f\n",
            "  Building wheel for sklearn (setup.py) ... \u001b[?25l\u001b[?25hdone\n",
            "  Created wheel for sklearn: filename=sklearn-0.0-py2.py3-none-any.whl size=1310 sha256=08c6b40fa98d16707fb7ff3882abbc6c0f157e97c0b0258c500d286d96767605\n",
            "  Stored in directory: /root/.cache/pip/wheels/46/ef/c3/157e41f5ee1372d1be90b09f74f82b10e391eaacca8f22d33e\n",
            "Successfully built pyLDAvis sklearn\n",
            "Installing collected packages: sklearn, funcy, pyLDAvis\n",
            "Successfully installed funcy-1.17 pyLDAvis-3.3.1 sklearn-0.0\n"
          ]
        }
      ]
    },
    {
      "cell_type": "code",
      "source": [
        "print(__doc__)"
      ],
      "metadata": {
        "id": "eRDohPTtQ8O2",
        "colab": {
          "base_uri": "https://localhost:8080/"
        },
        "outputId": "d4448874-52e6-45ed-e086-2f84a76aba59"
      },
      "execution_count": null,
      "outputs": [
        {
          "output_type": "stream",
          "name": "stdout",
          "text": [
            "Automatically created module for IPython interactive environment\n"
          ]
        }
      ]
    },
    {
      "cell_type": "code",
      "source": [
        "import matplotlib.pyplot as plt\n",
        "\n",
        "from sklearn import datasets\n",
        "from sklearn.decomposition import PCA\n",
        "from sklearn.discriminant_analysis import LinearDiscriminantAnalysis as LDA"
      ],
      "metadata": {
        "id": "6G1limAQRCIC"
      },
      "execution_count": null,
      "outputs": []
    },
    {
      "cell_type": "code",
      "source": [
        "iris = datasets.load_iris()\n",
        "\n",
        "X = iris.data\n",
        "y = iris.target\n",
        "target_names = iris.target_names\n",
        "\n",
        "pca = PCA(n_components=2)\n",
        "X_r = pca.fit(X).transform(X)\n",
        "\n",
        "lda = LDA(n_components=2)\n",
        "X_r2 = lda.fit(X, y).transform(X)"
      ],
      "metadata": {
        "id": "04qgjxi8REjR"
      },
      "execution_count": null,
      "outputs": []
    },
    {
      "cell_type": "code",
      "source": [
        "#Persentase varians dijelaskan untuk setiap komponen\n",
        "print('explained variance ratio (first two components): %s'\n",
        "      % str(pca.explained_variance_ratio_))"
      ],
      "metadata": {
        "id": "dQ52TiH_RJML",
        "colab": {
          "base_uri": "https://localhost:8080/"
        },
        "outputId": "9c616990-0b27-49c1-c514-4e9669ca6b6f"
      },
      "execution_count": null,
      "outputs": [
        {
          "output_type": "stream",
          "name": "stdout",
          "text": [
            "explained variance ratio (first two components): [0.92461872 0.05306648]\n"
          ]
        }
      ]
    },
    {
      "cell_type": "code",
      "source": [
        "plt.figure()\n",
        "for c, i, target_name in zip(\"rgb\", [0, 1, 2], target_names):\n",
        "    plt.scatter(X_r[y == i, 0], X_r[y == i, 1], c=c, label=target_name)\n",
        "plt.legend()\n",
        "plt.title('PCA of IRIS dataset')\n",
        "\n",
        "plt.figure()\n",
        "for c, i, target_name in zip(\"rgb\", [0, 1, 2], target_names):\n",
        "    plt.scatter(X_r2[y == i, 0], X_r2[y == i, 1], c=c, label=target_name)\n",
        "plt.legend()\n",
        "plt.title('LDA of IRIS dataset')\n",
        "\n",
        "plt.show()"
      ],
      "metadata": {
        "id": "eRNm6PYBRWGT",
        "colab": {
          "base_uri": "https://localhost:8080/",
          "height": 545
        },
        "outputId": "5f10fa91-cce2-4341-9d8f-9918626f832f"
      },
      "execution_count": null,
      "outputs": [
        {
          "output_type": "display_data",
          "data": {
            "text/plain": [
              "<Figure size 432x288 with 1 Axes>"
            ],
            "image/png": "[encoded data removed]"
          },
          "metadata": {
            "needs_background": "light"
          }
        },
        {
          "output_type": "display_data",
          "data": {
            "text/plain": [
              "<Figure size 432x288 with 1 Axes>"
            ],
            "image/png": "[encoded data removed]"
          },
          "metadata": {
            "needs_background": "light"
          }
        }
      ]
    },
    {
      "cell_type": "markdown",
      "source": [
        "#SVD\n",
        "Mengelompokkan dokumen teks menggunakan k-means"
      ],
      "metadata": {
        "id": "qhrWIXdFRp6A"
      }
    },
    {
      "cell_type": "code",
      "source": [
        "import numpy as np\n",
        "from sklearn.datasets import fetch_20newsgroups"
      ],
      "metadata": {
        "id": "AiuQHCN9Rw7H"
      },
      "execution_count": null,
      "outputs": []
    },
    {
      "cell_type": "code",
      "source": [
        "categories = [\n",
        "    \"alt.atheism\",\n",
        "    \"talk.religion.misc\",\n",
        "    \"comp.graphics\",\n",
        "    \"sci.space\",\n",
        "]\n",
        "\n",
        "dataset = fetch_20newsgroups(\n",
        "    remove=(\"headers\", \"footers\", \"quotes\"),\n",
        "    subset=\"all\",\n",
        "    categories=categories,\n",
        "    shuffle=True,\n",
        "    random_state=42,\n",
        ")\n",
        "\n",
        "labels = dataset.target\n",
        "unique_labels, category_sizes = np.unique(labels, return_counts=True)\n",
        "true_k = unique_labels.shape[0]\n",
        "\n",
        "print(f\"{len(dataset.data)} documents - {true_k} categories\")"
      ],
      "metadata": {
        "id": "OLgPMzKQRzKD",
        "colab": {
          "base_uri": "https://localhost:8080/"
        },
        "outputId": "29ceaa76-69fe-42c3-f93f-558a21210bd2"
      },
      "execution_count": null,
      "outputs": [
        {
          "output_type": "stream",
          "name": "stdout",
          "text": [
            "3387 documents - 4 categories\n"
          ]
        }
      ]
    },
    {
      "cell_type": "markdown",
      "source": [
        "Mengukur kualitas hasil pengelompokan"
      ],
      "metadata": {
        "id": "3qtByFNXR4jg"
      }
    },
    {
      "cell_type": "code",
      "source": [
        "from collections import defaultdict\n",
        "from sklearn import metrics\n",
        "from time import time"
      ],
      "metadata": {
        "id": "D6wPD1u4R2L3"
      },
      "execution_count": null,
      "outputs": []
    },
    {
      "cell_type": "code",
      "source": [
        "evaluations = []\n",
        "evaluations_std = []"
      ],
      "metadata": {
        "id": "ir6pEoV5R6Ts"
      },
      "execution_count": null,
      "outputs": []
    },
    {
      "cell_type": "code",
      "source": [
        "def fit_and_evaluate(km, X, name=None, n_runs=5):\n",
        "    name = km.__class__.__name__ if name is None else name\n",
        "\n",
        "    train_times = []\n",
        "    scores = defaultdict(list)\n",
        "    for seed in range(n_runs):\n",
        "        km.set_params(random_state=seed)\n",
        "        t0 = time()\n",
        "        km.fit(X)\n",
        "        train_times.append(time() - t0)\n",
        "        scores[\"Homogeneity\"].append(metrics.homogeneity_score(labels, km.labels_))\n",
        "        scores[\"Completeness\"].append(metrics.completeness_score(labels, km.labels_))\n",
        "        scores[\"V-measure\"].append(metrics.v_measure_score(labels, km.labels_))\n",
        "        scores[\"Adjusted Rand-Index\"].append(\n",
        "            metrics.adjusted_rand_score(labels, km.labels_)\n",
        "        )\n",
        "        scores[\"Silhouette Coefficient\"].append(\n",
        "            metrics.silhouette_score(X, km.labels_, sample_size=2000)\n",
        "        )\n",
        "    train_times = np.asarray(train_times)\n",
        "\n",
        "    print(f\"clustering done in {train_times.mean():.2f} ± {train_times.std():.2f} s \")\n",
        "    evaluation = {\n",
        "        \"estimator\": name,\n",
        "        \"train_time\": train_times.mean(),\n",
        "    }\n",
        "    evaluation_std = {\n",
        "        \"estimator\": name,\n",
        "        \"train_time\": train_times.std(),\n",
        "    }\n",
        "    for score_name, score_values in scores.items():\n",
        "        mean_score, std_score = np.mean(score_values), np.std(score_values)\n",
        "        print(f\"{score_name}: {mean_score:.3f} ± {std_score:.3f}\")\n",
        "        evaluation[score_name] = mean_score\n",
        "        evaluation_std[score_name] = std_score\n",
        "    evaluations.append(evaluation)\n",
        "    evaluations_std.append(evaluation_std)"
      ],
      "metadata": {
        "id": "zgt2jjUoR-M3"
      },
      "execution_count": null,
      "outputs": []
    },
    {
      "cell_type": "markdown",
      "source": [
        "K-means clustering pada fitur teks"
      ],
      "metadata": {
        "id": "3kkpHXjJSBBW"
      }
    },
    {
      "cell_type": "code",
      "source": [
        "from sklearn.feature_extraction.text import TfidfVectorizer"
      ],
      "metadata": {
        "id": "LKcpdrFoSFr9"
      },
      "execution_count": null,
      "outputs": []
    },
    {
      "cell_type": "code",
      "source": [
        "vectorizer = TfidfVectorizer(\n",
        "    max_df=0.5,\n",
        "    min_df=5,\n",
        "    stop_words=\"english\",\n",
        ")\n",
        "t0 = time()\n",
        "X_tfidf = vectorizer.fit_transform(dataset.data)\n",
        "\n",
        "print(f\"vectorization done in {time() - t0:.3f} s\")\n",
        "print(f\"n_samples: {X_tfidf.shape[0]}, n_features: {X_tfidf.shape[1]}\")"
      ],
      "metadata": {
        "id": "Z3HUbbV5SEYz",
        "colab": {
          "base_uri": "https://localhost:8080/"
        },
        "outputId": "6e1b07f9-6f1c-4d0c-9b31-d8f1b891d2fa"
      },
      "execution_count": null,
      "outputs": [
        {
          "output_type": "stream",
          "name": "stdout",
          "text": [
            "vectorization done in 1.555 s\n",
            "n_samples: 3387, n_features: 7929\n"
          ]
        }
      ]
    },
    {
      "cell_type": "code",
      "source": [
        "print(f\"{X_tfidf.nnz / np.prod(X_tfidf.shape):.3f}\")"
      ],
      "metadata": {
        "id": "X0E6Ujj0SIwh",
        "colab": {
          "base_uri": "https://localhost:8080/"
        },
        "outputId": "63ff2051-ccfc-4d21-e7a9-38f24ff6591f"
      },
      "execution_count": null,
      "outputs": [
        {
          "output_type": "stream",
          "name": "stdout",
          "text": [
            "0.007\n"
          ]
        }
      ]
    },
    {
      "cell_type": "markdown",
      "source": [
        "Mengelompokkan data sparse dengan k-means"
      ],
      "metadata": {
        "id": "IiyWlcs8SKgZ"
      }
    },
    {
      "cell_type": "code",
      "source": [
        "from sklearn.cluster import KMeans"
      ],
      "metadata": {
        "id": "zIc2W_baSMZ8"
      },
      "execution_count": null,
      "outputs": []
    },
    {
      "cell_type": "code",
      "source": [
        "for seed in range(5):\n",
        "    kmeans = KMeans(\n",
        "        n_clusters=true_k,\n",
        "        max_iter=100,\n",
        "        n_init=1,\n",
        "        random_state=seed,\n",
        "    ).fit(X_tfidf)\n",
        "    cluster_ids, cluster_sizes = np.unique(kmeans.labels_, return_counts=True)\n",
        "    print(f\"Number of elements asigned to each cluster: {cluster_sizes}\")\n",
        "print()\n",
        "print(\n",
        "    \"True number of documents in each category according to the class labels: \"\n",
        "    f\"{category_sizes}\"\n",
        ")"
      ],
      "metadata": {
        "id": "Mm3uLyxaSQqA",
        "colab": {
          "base_uri": "https://localhost:8080/"
        },
        "outputId": "8d9eb68d-1cd4-45da-f448-d88f58d5bb6b"
      },
      "execution_count": null,
      "outputs": [
        {
          "output_type": "stream",
          "name": "stdout",
          "text": [
            "Number of elements asigned to each cluster: [   1    1 3384    1]\n",
            "Number of elements asigned to each cluster: [1688  725  238  736]\n",
            "Number of elements asigned to each cluster: [2004  446  646  291]\n",
            "Number of elements asigned to each cluster: [1695  649  446  597]\n",
            "Number of elements asigned to each cluster: [ 338 2155  417  477]\n",
            "\n",
            "True number of documents in each category according to the class labels: [799 973 987 628]\n"
          ]
        }
      ]
    },
    {
      "cell_type": "code",
      "source": [
        "means = KMeans(\n",
        "    n_clusters=true_k,\n",
        "    max_iter=100,\n",
        "    n_init=5,\n",
        ")\n",
        "\n",
        "fit_and_evaluate(kmeans, X_tfidf, name=\"KMeans\\non tf-idf vectors\")"
      ],
      "metadata": {
        "id": "3YPqH_VYSSYq",
        "colab": {
          "base_uri": "https://localhost:8080/"
        },
        "outputId": "ad8c59be-ee3a-4877-bedb-2e97667145bc"
      },
      "execution_count": null,
      "outputs": [
        {
          "output_type": "stream",
          "name": "stdout",
          "text": [
            "clustering done in 0.11 ± 0.04 s \n",
            "Homogeneity: 0.243 ± 0.124\n",
            "Completeness: 0.319 ± 0.089\n",
            "V-measure: 0.264 ± 0.133\n",
            "Adjusted Rand-Index: 0.155 ± 0.087\n",
            "Silhouette Coefficient: 0.006 ± 0.004\n"
          ]
        }
      ]
    },
    {
      "cell_type": "markdown",
      "source": [
        "Melakukan pengurangan dimensi menggunakan LSA"
      ],
      "metadata": {
        "id": "NwEyG4_2SUMe"
      }
    },
    {
      "cell_type": "code",
      "source": [
        "from sklearn.decomposition import TruncatedSVD\n",
        "from sklearn.pipeline import make_pipeline\n",
        "from sklearn.preprocessing import Normalizer"
      ],
      "metadata": {
        "id": "jWA8A91cSV5m"
      },
      "execution_count": null,
      "outputs": []
    },
    {
      "cell_type": "code",
      "source": [
        "lsa = make_pipeline(TruncatedSVD(n_components=100), Normalizer(copy=False))\n",
        "t0 = time()\n",
        "X_lsa = lsa.fit_transform(X_tfidf)\n",
        "explained_variance = lsa[0].explained_variance_ratio_.sum()\n",
        "\n",
        "print(f\"LSA done in {time() - t0:.3f} s\")\n",
        "print(f\"Explained variance of the SVD step: {explained_variance * 100:.1f}%\")"
      ],
      "metadata": {
        "id": "5ZGMCR_uSXmx",
        "colab": {
          "base_uri": "https://localhost:8080/"
        },
        "outputId": "bce787c2-b6a6-4e07-fb34-c6ff2c3e2466"
      },
      "execution_count": null,
      "outputs": [
        {
          "output_type": "stream",
          "name": "stdout",
          "text": [
            "LSA done in 1.048 s\n",
            "Explained variance of the SVD step: 18.4%\n"
          ]
        }
      ]
    },
    {
      "cell_type": "code",
      "source": [
        "kmeans = KMeans(\n",
        "    n_clusters=true_k,\n",
        "    max_iter=100,\n",
        "    n_init=1,\n",
        ")\n",
        "\n",
        "fit_and_evaluate(kmeans, X_lsa, name=\"KMeans\\nwith LSA on tf-idf vectors\")"
      ],
      "metadata": {
        "id": "5_ZxnU6aSaYW",
        "colab": {
          "base_uri": "https://localhost:8080/"
        },
        "outputId": "2f06c399-549f-4bfd-b4b3-c974a314106f"
      },
      "execution_count": null,
      "outputs": [
        {
          "output_type": "stream",
          "name": "stdout",
          "text": [
            "clustering done in 0.15 ± 0.01 s \n",
            "Homogeneity: 0.391 ± 0.018\n",
            "Completeness: 0.427 ± 0.027\n",
            "V-measure: 0.408 ± 0.022\n",
            "Adjusted Rand-Index: 0.315 ± 0.017\n",
            "Silhouette Coefficient: 0.030 ± 0.001\n"
          ]
        }
      ]
    },
    {
      "cell_type": "code",
      "source": [
        "from sklearn.cluster import MiniBatchKMeans"
      ],
      "metadata": {
        "id": "QZ56phB-ScbE"
      },
      "execution_count": null,
      "outputs": []
    },
    {
      "cell_type": "code",
      "source": [
        "minibatch_kmeans = MiniBatchKMeans(\n",
        "    n_clusters=true_k,\n",
        "    n_init=1,\n",
        "    init_size=1000,\n",
        "    batch_size=1000,\n",
        ")\n",
        "\n",
        "fit_and_evaluate(\n",
        "    minibatch_kmeans,\n",
        "    X_lsa,\n",
        "    name=\"MiniBatchKMeans\\nwith LSA on tf-idf vectors\",\n",
        ")"
      ],
      "metadata": {
        "id": "18SPgdUOSfl_",
        "colab": {
          "base_uri": "https://localhost:8080/"
        },
        "outputId": "cd01d225-2b11-4306-8f6c-e27a52c7cf5b"
      },
      "execution_count": null,
      "outputs": [
        {
          "output_type": "stream",
          "name": "stdout",
          "text": [
            "clustering done in 0.16 ± 0.03 s \n",
            "Homogeneity: 0.312 ± 0.146\n",
            "Completeness: 0.359 ± 0.074\n",
            "V-measure: 0.321 ± 0.139\n",
            "Adjusted Rand-Index: 0.278 ± 0.143\n",
            "Silhouette Coefficient: 0.023 ± 0.015\n"
          ]
        }
      ]
    },
    {
      "cell_type": "markdown",
      "source": [
        "Istilah teratas per cluster"
      ],
      "metadata": {
        "id": "V9nau95lSjn8"
      }
    },
    {
      "cell_type": "code",
      "source": [
        "original_space_centroids = lsa[0].inverse_transform(kmeans.cluster_centers_)\n",
        "order_centroids = original_space_centroids.argsort()[:, ::-1]\n",
        "terms = vectorizer.get_feature_names_out()\n",
        "\n",
        "for i in range(true_k):\n",
        "    print(f\"Cluster {i}: \", end=\"\")\n",
        "    for ind in order_centroids[i, :10]:\n",
        "        print(f\"{terms[ind]} \", end=\"\")\n",
        "    print()"
      ],
      "metadata": {
        "id": "m8vol7nQSlXZ",
        "colab": {
          "base_uri": "https://localhost:8080/"
        },
        "outputId": "c9dca858-6bb0-42a8-9983-98cc1c789449"
      },
      "execution_count": null,
      "outputs": [
        {
          "output_type": "stream",
          "name": "stdout",
          "text": [
            "Cluster 0: graphics software computer comp image information 3d pc available video \n",
            "Cluster 1: god people don think just say religion believe know jesus \n",
            "Cluster 2: thanks know does files edu file like ve program image \n",
            "Cluster 3: space launch orbit like earth nasa shuttle moon just time \n"
          ]
        }
      ]
    },
    {
      "cell_type": "markdown",
      "source": [
        "HashingVektorizer"
      ],
      "metadata": {
        "id": "qvAv2epbSpaa"
      }
    },
    {
      "cell_type": "code",
      "source": [
        "from sklearn.feature_extraction.text import HashingVectorizer\n",
        "from sklearn.feature_extraction.text import TfidfTransformer"
      ],
      "metadata": {
        "id": "nc45UvN0Sp8i"
      },
      "execution_count": null,
      "outputs": []
    },
    {
      "cell_type": "code",
      "source": [
        "lsa_vectorizer = make_pipeline(\n",
        "    HashingVectorizer(stop_words=\"english\", n_features=50_000),\n",
        "    TfidfTransformer(),\n",
        "    TruncatedSVD(n_components=100, random_state=0),\n",
        "    Normalizer(copy=False),\n",
        ")\n",
        "\n",
        "t0 = time()\n",
        "X_hashed_lsa = lsa_vectorizer.fit_transform(dataset.data)\n",
        "print(f\"vectorization done in {time() - t0:.3f} s\")"
      ],
      "metadata": {
        "id": "jeOVZuswSsCK",
        "colab": {
          "base_uri": "https://localhost:8080/"
        },
        "outputId": "65895d69-854f-4631-8474-7e6efa31c4d8"
      },
      "execution_count": null,
      "outputs": [
        {
          "output_type": "stream",
          "name": "stdout",
          "text": [
            "vectorization done in 5.886 s\n"
          ]
        }
      ]
    },
    {
      "cell_type": "code",
      "source": [
        "fit_and_evaluate(kmeans, X_hashed_lsa, name=\"KMeans\\nwith LSA on hashed vectors\")"
      ],
      "metadata": {
        "id": "POKG2pHjSuDn",
        "colab": {
          "base_uri": "https://localhost:8080/"
        },
        "outputId": "2fc65ab4-418f-48fb-c87d-3061a0b0bdb0"
      },
      "execution_count": null,
      "outputs": [
        {
          "output_type": "stream",
          "name": "stdout",
          "text": [
            "clustering done in 0.39 ± 0.18 s \n",
            "Homogeneity: 0.400 ± 0.003\n",
            "Completeness: 0.451 ± 0.005\n",
            "V-measure: 0.424 ± 0.004\n",
            "Adjusted Rand-Index: 0.320 ± 0.010\n",
            "Silhouette Coefficient: 0.029 ± 0.000\n"
          ]
        }
      ]
    },
    {
      "cell_type": "code",
      "source": [
        "fit_and_evaluate(\n",
        "    minibatch_kmeans,\n",
        "    X_hashed_lsa,\n",
        "    name=\"MiniBatchKMeans\\nwith LSA on hashed vectors\",\n",
        ")"
      ],
      "metadata": {
        "id": "3gnM_67oSvyx",
        "colab": {
          "base_uri": "https://localhost:8080/"
        },
        "outputId": "92835983-7f7e-41d2-9310-15d13683616a"
      },
      "execution_count": null,
      "outputs": [
        {
          "output_type": "stream",
          "name": "stdout",
          "text": [
            "clustering done in 0.39 ± 0.21 s \n",
            "Homogeneity: 0.349 ± 0.059\n",
            "Completeness: 0.364 ± 0.060\n",
            "V-measure: 0.357 ± 0.059\n",
            "Adjusted Rand-Index: 0.317 ± 0.072\n",
            "Silhouette Coefficient: 0.024 ± 0.004\n"
          ]
        }
      ]
    },
    {
      "cell_type": "markdown",
      "source": [
        "Ringkasan evaluasi pengelompokan"
      ],
      "metadata": {
        "id": "NVMnbGtFSxb2"
      }
    },
    {
      "cell_type": "code",
      "source": [
        "import pandas as pd\n",
        "import matplotlib.pyplot as plt"
      ],
      "metadata": {
        "id": "m2QEbjHJS0jE"
      },
      "execution_count": null,
      "outputs": []
    },
    {
      "cell_type": "code",
      "source": [
        "fig, (ax0, ax1) = plt.subplots(ncols=2, figsize=(16, 6), sharey=True)\n",
        "\n",
        "df = pd.DataFrame(evaluations[::-1]).set_index(\"estimator\")\n",
        "df_std = pd.DataFrame(evaluations_std[::-1]).set_index(\"estimator\")\n",
        "\n",
        "df.drop(\n",
        "    [\"train_time\"],\n",
        "    axis=\"columns\",\n",
        ").plot.barh(ax=ax0, xerr=df_std)\n",
        "ax0.set_xlabel(\"Clustering scores\")\n",
        "ax0.set_ylabel(\"\")\n",
        "\n",
        "df[\"train_time\"].plot.barh(ax=ax1, xerr=df_std[\"train_time\"])\n",
        "ax1.set_xlabel(\"Clustering time (s)\")\n",
        "plt.tight_layout()"
      ],
      "metadata": {
        "id": "gQFXZ5LjS2hX",
        "colab": {
          "base_uri": "https://localhost:8080/",
          "height": 441
        },
        "outputId": "cce0f433-7d5e-410e-a061-83850e7bddf5"
      },
      "execution_count": null,
      "outputs": [
        {
          "output_type": "display_data",
          "data": {
            "text/plain": [
              "<Figure size 1152x432 with 2 Axes>"
            ],
            "image/png": "[encoded data removed]"
          },
          "metadata": {
            "needs_background": "light"
          }
        }
      ]
    }
  ]
}